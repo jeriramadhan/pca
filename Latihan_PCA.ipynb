{
  "nbformat": 4,
  "nbformat_minor": 0,
  "metadata": {
    "colab": {
      "name": "Latihan PCA.ipynb",
      "provenance": [],
      "collapsed_sections": [],
      "authorship_tag": "ABX9TyMwHarfI1JL+1m1+tl9M1f4",
      "include_colab_link": true
    },
    "kernelspec": {
      "name": "python3",
      "display_name": "Python 3"
    }
  },
  "cells": [
    {
      "cell_type": "markdown",
      "metadata": {
        "id": "view-in-github",
        "colab_type": "text"
      },
      "source": [
        "<a href=\"https://colab.research.google.com/github/jeriramadhan/pca/blob/main/Latihan_PCA.ipynb\" target=\"_parent\"><img src=\"https://colab.research.google.com/assets/colab-badge.svg\" alt=\"Open In Colab\"/></a>"
      ]
    },
    {
      "cell_type": "code",
      "metadata": {
        "id": "l_1tZsPJZIpw"
      },
      "source": [
        "import numpy as np\n",
        "import pandas as pd"
      ],
      "execution_count": null,
      "outputs": []
    },
    {
      "cell_type": "code",
      "metadata": {
        "id": "hiFpU1iWZT0R"
      },
      "source": [
        "import seaborn as sns\n",
        "import matplotlib.pyplot as plt\n",
        "%matplotlib inline\n",
        "sns.set(style=\"white\", color_codes=True)"
      ],
      "execution_count": null,
      "outputs": []
    },
    {
      "cell_type": "code",
      "metadata": {
        "id": "PcSWQ470ZXWj"
      },
      "source": [
        "def latihan_PCA(x, y, limits):\n",
        "    f, ax = plt.subplots()\n",
        "    plt.scatter(x, y, marker='x')\n",
        "    ax.set_xlim(limits)\n",
        "    ax.set_ylim(limits)\n",
        "    plt.gca().set_aspect('equal', adjustable='box')"
      ],
      "execution_count": null,
      "outputs": []
    },
    {
      "cell_type": "code",
      "metadata": {
        "id": "P1dnZdjIZcys"
      },
      "source": [
        "x = [2.5, 0.5, 2.2, 1.9, 3.1, 2.3, 2.0, 1.0, 1.5, 1.1]\n",
        "y = [2.4, 0.7, 2.9, 2.2, 3.0, 2.7, 1.6, 1.1, 1.6, 0.9]"
      ],
      "execution_count": null,
      "outputs": []
    },
    {
      "cell_type": "code",
      "metadata": {
        "id": "hC_S0YWoZhO4",
        "outputId": "1127f3bf-8653-4d65-9415-8563addfe110",
        "colab": {
          "base_uri": "https://localhost:8080/",
          "height": 272
        }
      },
      "source": [
        "latihan_PCA(x, y, [0, 4])"
      ],
      "execution_count": null,
      "outputs": [
        {
          "output_type": "display_data",
          "data": {
            "image/png": "[encoded data removed]",
            "text/plain": [
              "<Figure size 432x288 with 1 Axes>"
            ]
          },
          "metadata": {
            "tags": []
          }
        }
      ]
    },
    {
      "cell_type": "code",
      "metadata": {
        "id": "EuKNnHQrZnBI"
      },
      "source": [
        "data = list(zip(x, y))\n",
        "data = pd.DataFrame(data=data, columns=['x', 'y'])"
      ],
      "execution_count": null,
      "outputs": []
    },
    {
      "cell_type": "code",
      "metadata": {
        "id": "nTbJwxgEZrZf",
        "outputId": "cf7bda9f-240e-4a76-ce1f-dedbd22ec2bc",
        "colab": {
          "base_uri": "https://localhost:8080/",
          "height": 272
        }
      },
      "source": [
        "data_penyesuaian = data - data.mean(axis=0)\n",
        "latihan_PCA(data_penyesuaian['x'], data_penyesuaian['y'], [-2, 2])"
      ],
      "execution_count": null,
      "outputs": [
        {
          "output_type": "display_data",
          "data": {
            "image/png": "[encoded data removed]",
            "text/plain": [
              "<Figure size 432x288 with 1 Axes>"
            ]
          },
          "metadata": {
            "tags": []
          }
        }
      ]
    },
    {
      "cell_type": "code",
      "metadata": {
        "id": "MDPzwxeSZzOV",
        "outputId": "94f5b809-9709-45bb-fc35-06136fd24ef3",
        "colab": {
          "base_uri": "https://localhost:8080/",
          "height": 106
        }
      },
      "source": [
        "covariance_matrix = data_penyesuaian.cov()\n",
        "covariance_matrix"
      ],
      "execution_count": null,
      "outputs": [
        {
          "output_type": "execute_result",
          "data": {
            "text/html": [
              "<div>\n",
              "<style scoped>\n",
              "    .dataframe tbody tr th:only-of-type {\n",
              "        vertical-align: middle;\n",
              "    }\n",
              "\n",
              "    .dataframe tbody tr th {\n",
              "        vertical-align: top;\n",
              "    }\n",
              "\n",
              "    .dataframe thead th {\n",
              "        text-align: right;\n",
              "    }\n",
              "</style>\n",
              "<table border=\"1\" class=\"dataframe\">\n",
              "  <thead>\n",
              "    <tr style=\"text-align: right;\">\n",
              "      <th></th>\n",
              "      <th>x</th>\n",
              "      <th>y</th>\n",
              "    </tr>\n",
              "  </thead>\n",
              "  <tbody>\n",
              "    <tr>\n",
              "      <th>x</th>\n",
              "      <td>0.616556</td>\n",
              "      <td>0.615444</td>\n",
              "    </tr>\n",
              "    <tr>\n",
              "      <th>y</th>\n",
              "      <td>0.615444</td>\n",
              "      <td>0.716556</td>\n",
              "    </tr>\n",
              "  </tbody>\n",
              "</table>\n",
              "</div>"
            ],
            "text/plain": [
              "          x         y\n",
              "x  0.616556  0.615444\n",
              "y  0.615444  0.716556"
            ]
          },
          "metadata": {
            "tags": []
          },
          "execution_count": 54
        }
      ]
    },
    {
      "cell_type": "code",
      "metadata": {
        "id": "sL8IHVhLZ58J",
        "outputId": "5aa6b715-dd84-4bcf-9eb0-6d035026361e",
        "colab": {
          "base_uri": "https://localhost:8080/"
        }
      },
      "source": [
        "eigenvalues, eigenvectors = np.linalg.eig(covariance_matrix)\n",
        "eigenvectors\n",
        "eigenvalues\n",
        "eigenvector_1 = eigenvectors[:,0]\n",
        "slope_1 = eigenvector_1[0] / eigenvector_1[1]\n",
        "eigenvector_1\n",
        "eigenvector_2 = eigenvectors[:,1]\n",
        "slope_2 = eigenvector_2[0] / eigenvector_2[1]\n",
        "eigenvector_2"
      ],
      "execution_count": null,
      "outputs": [
        {
          "output_type": "execute_result",
          "data": {
            "text/plain": [
              "array([-0.6778734 , -0.73517866])"
            ]
          },
          "metadata": {
            "tags": []
          },
          "execution_count": 55
        }
      ]
    },
    {
      "cell_type": "code",
      "metadata": {
        "id": "_DIYxiJVaHM-",
        "outputId": "f88f55de-fc53-4762-d2c8-3d8f31514151",
        "colab": {
          "base_uri": "https://localhost:8080/",
          "height": 289
        }
      },
      "source": [
        "f, ax = plt.subplots()\n",
        "X = np.arange(-2.0, 2.0, 0.1)\n",
        "plt.plot(X, X * slope_1, 'gray')\n",
        "plt.plot(X, X * slope_2, 'black')\n",
        "\n",
        "plt.xlim(-2, 2)\n",
        "plt.ylim(-2, 2)\n",
        "plt.gca().set_aspect('equal', adjustable='box')\n",
        "\n",
        "\n",
        "feature_vector_reduced = eigenvectors[:, np.argmax(eigenvalues)]\n",
        "feature_vector_reduced"
      ],
      "execution_count": null,
      "outputs": [
        {
          "output_type": "execute_result",
          "data": {
            "text/plain": [
              "array([-0.6778734 , -0.73517866])"
            ]
          },
          "metadata": {
            "tags": []
          },
          "execution_count": 56
        },
        {
          "output_type": "display_data",
          "data": {
            "image/png": "[encoded data removed]",
            "text/plain": [
              "<Figure size 432x288 with 1 Axes>"
            ]
          },
          "metadata": {
            "tags": []
          }
        }
      ]
    },
    {
      "cell_type": "code",
      "metadata": {
        "id": "aaZ8JA4XaMoy"
      },
      "source": [
        "feature_vector_full = eigenvectors"
      ],
      "execution_count": null,
      "outputs": []
    },
    {
      "cell_type": "code",
      "metadata": {
        "id": "w04gxQh-aPSN",
        "outputId": "0e3a6323-497e-423d-f6c7-4557910ee0b1",
        "colab": {
          "base_uri": "https://localhost:8080/",
          "height": 272
        }
      },
      "source": [
        "trasformed_data_full = np.dot(feature_vector_full.T, data_penyesuaian.T)\n",
        "trasformed_data_full[1] # x\n",
        "trasformed_data_full[0] # y\n",
        "\n",
        "latihan_PCA(trasformed_data_full[1], trasformed_data_full[0], [-2, 2])"
      ],
      "execution_count": null,
      "outputs": [
        {
          "output_type": "display_data",
          "data": {
            "image/png": "[encoded data removed]",
            "text/plain": [
              "<Figure size 432x288 with 1 Axes>"
            ]
          },
          "metadata": {
            "tags": []
          }
        }
      ]
    },
    {
      "cell_type": "code",
      "metadata": {
        "id": "K4AYV8muaZJN",
        "outputId": "e3c12a69-5a4b-476f-c0ea-8e8e69d91ba7",
        "colab": {
          "base_uri": "https://localhost:8080/"
        }
      },
      "source": [
        "trasformed_data_reduced = np.dot(feature_vector_reduced.T, data_penyesuaian.T)\n",
        "trasformed_data_reduced"
      ],
      "execution_count": null,
      "outputs": [
        {
          "output_type": "execute_result",
          "data": {
            "text/plain": [
              "array([-0.82797019,  1.77758033, -0.99219749, -0.27421042, -1.67580142,\n",
              "       -0.9129491 ,  0.09910944,  1.14457216,  0.43804614,  1.22382056])"
            ]
          },
          "metadata": {
            "tags": []
          },
          "execution_count": 59
        }
      ]
    },
    {
      "cell_type": "code",
      "metadata": {
        "id": "FCVi6j-cab-o",
        "outputId": "266529e6-2105-488f-e02a-cc8dda51d453",
        "colab": {
          "base_uri": "https://localhost:8080/",
          "height": 272
        }
      },
      "source": [
        "latihan_PCA(trasformed_data_reduced, [0] * len(trasformed_data_reduced), [-2, 2])"
      ],
      "execution_count": null,
      "outputs": [
        {
          "output_type": "display_data",
          "data": {
            "image/png": "[encoded data removed]",
            "text/plain": [
              "<Figure size 432x288 with 1 Axes>"
            ]
          },
          "metadata": {
            "tags": []
          }
        }
      ]
    }
  ]
}